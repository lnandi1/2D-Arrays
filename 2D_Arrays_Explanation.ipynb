{
 "cells": [
  {
   "cell_type": "code",
   "execution_count": 20,
   "metadata": {},
   "outputs": [],
   "source": [
    "# **2D-Arrays (2 Dimensional Arrays)**"
   ]
  },
  {
   "cell_type": "markdown",
   "metadata": {},
   "source": [
    "**Let us look at an example. Let us say you have 3 People called Alex, May and George and you want to represent how many pieces of fruit they ate in the months of Jan, Feb, Mar and Apr. Well you can represent the information in the form a table\n",
    "or 2-Dimensional (2D) Array, as seen below**"
   ]
  },
  {
   "cell_type": "markdown",
   "metadata": {},
   "source": [
    "**You can see there are 4 Rows, labelled Row 0, Row 1, Row 2, Row 3. Note here we\n",
    "are starting to count from zero.**"
   ]
  },
  {
   "cell_type": "markdown",
   "metadata": {},
   "source": [
    "<img src=\"2D_Array_Slides_1.002.jpeg\" alt=\"Kitten\"\n",
    "\ttitle=\"A cute kitten\" width=\"500\" height=\"500\" />"
   ]
  },
  {
   "cell_type": "markdown",
   "metadata": {},
   "source": [
    "**You can see there are 3 columns, labelled Column 0, Column 1, Column 2. \n",
    "Note here we start to count from zero**"
   ]
  },
  {
   "cell_type": "markdown",
   "metadata": {},
   "source": [
    "<img src=\"2D_Array_Slides_1.003.jpeg\" alt=\"Kitten\"\n",
    "\ttitle=\"A cute kitten\" width=\"500\" height=\"500\" />"
   ]
  },
  {
   "cell_type": "markdown",
   "metadata": {},
   "source": [
    "**See the diagram below where both rows and columns are labelled**"
   ]
  },
  {
   "cell_type": "markdown",
   "metadata": {},
   "source": [
    "<img src=\"2D_Array_Slides_1.004.jpeg\" alt=\"Kitten\"\n",
    "\ttitle=\"A cute kitten\" width=\"500\" height=\"500\" />"
   ]
  },
  {
   "cell_type": "markdown",
   "metadata": {},
   "source": [
    "**So we can reference each of the items/elements in the 2D-Array by \n",
    "using the format [Row][Column]. So the value 1, is in Cell/Position [0][0] \n",
    "and the value 11 is at Cell/Position [3][1].\n",
    "Question: So, what value is in Position [1][2]?\n",
    "Answer: It is 6.**"
   ]
  },
  {
   "cell_type": "markdown",
   "metadata": {},
   "source": [
    "<img src=\"2D_Array_Slides_1.005.jpeg\" alt=\"Kitten\"\n",
    "\ttitle=\"A cute kitten\" width=\"500\" height=\"500\" />"
   ]
  },
  {
   "cell_type": "markdown",
   "metadata": {},
   "source": [
    "## **Defining a 2D Array called Example which contains the above information**"
   ]
  },
  {
   "cell_type": "code",
   "execution_count": 21,
   "metadata": {},
   "outputs": [],
   "source": [
    "# PROGRAM 1\n",
    "Example = [[1,2,3],\n",
    "          [4,5,6],\n",
    "          [7,8,9],\n",
    "          [10,11,12]]"
   ]
  },
  {
   "cell_type": "markdown",
   "metadata": {},
   "source": [
    "## **Referencing Individial Items in the 2D Array Example**"
   ]
  },
  {
   "cell_type": "code",
   "execution_count": 22,
   "metadata": {},
   "outputs": [
    {
     "name": "stdout",
     "output_type": "stream",
     "text": [
      "Example[0][0]  1\n",
      "Example[2]1]   8\n",
      "Example[3][2]  12\n"
     ]
    }
   ],
   "source": [
    "# PROGRAM 2\n",
    "print(\"Example[0][0] \",Example[0][0])\n",
    "print(\"Example[2]1]  \",Example[2][1])\n",
    "print(\"Example[3][2] \",Example[3][2])\n"
   ]
  },
  {
   "cell_type": "markdown",
   "metadata": {},
   "source": [
    "## **Finding out the Number of Rows in the 2d Array Example**"
   ]
  },
  {
   "cell_type": "code",
   "execution_count": 23,
   "metadata": {},
   "outputs": [
    {
     "name": "stdout",
     "output_type": "stream",
     "text": [
      "Number of Rows  4\n"
     ]
    }
   ],
   "source": [
    "# PROGRAM 3\n",
    "Number_of_Rows = len(Example)\n",
    "print(\"Number of Rows \",Number_of_Rows)"
   ]
  },
  {
   "cell_type": "markdown",
   "metadata": {},
   "source": [
    "## **Reading the 2D Array Example - allowing program to work out Number of Rows and Columns**"
   ]
  },
  {
   "cell_type": "code",
   "execution_count": 24,
   "metadata": {},
   "outputs": [
    {
     "name": "stdout",
     "output_type": "stream",
     "text": [
      "1 2 3 \n",
      "4 5 6 \n",
      "7 8 9 \n",
      "10 11 12 \n"
     ]
    }
   ],
   "source": [
    "# PROGRAM 4\n",
    "for Row in range(Number_of_Rows):                  #. Finding the number of Rows in the 2D Array Example\n",
    "    for Column in range (len(Example[Row])):       #.  Finding the number of Columns in the 2D Array Example\n",
    "        print(Example[Row][Column],end = \" \")      # Reading the items in the 2D Array Example\n",
    "    print()                                        # This Separates out the Rows\n",
    "     "
   ]
  },
  {
   "cell_type": "markdown",
   "metadata": {},
   "source": [
    "## **Reading the 2D Array Example, with the number of rows and columns already known**"
   ]
  },
  {
   "cell_type": "code",
   "execution_count": 25,
   "metadata": {},
   "outputs": [
    {
     "name": "stdout",
     "output_type": "stream",
     "text": [
      "1 2 3 \n",
      "4 5 6 \n",
      "7 8 9 \n",
      "10 11 12 \n"
     ]
    }
   ],
   "source": [
    "#PROGRAM 5\n",
    "for Row in range(4):     # We know there are 4 Rows in the 2D Array\n",
    "    for Column in range(3):   #We know there are 3 Rows in the 2D Array\n",
    "        print(Example[Row][Column],end = \" \")      # Reading the items in the 2D Array Example\n",
    "    print()                                        # This Separates out the Rows"
   ]
  },
  {
   "cell_type": "markdown",
   "metadata": {},
   "source": [
    "# **Finding the Sum, Average and Count of the Numbers**"
   ]
  },
  {
   "cell_type": "code",
   "execution_count": 26,
   "metadata": {},
   "outputs": [
    {
     "name": "stdout",
     "output_type": "stream",
     "text": [
      "1 2 3 \n",
      "4 5 6 \n",
      "7 8 9 \n",
      "10 11 12 \n",
      "Sum of the numbers  78\n",
      "Number of items read  12\n",
      "Average  6.5\n"
     ]
    }
   ],
   "source": [
    "# PROGRAM 5\n",
    "# Finding the Average of the Numbers in the 2D-Array\n",
    "sum = 0\n",
    "count = 0\n",
    "\n",
    "for Row in range(Number_of_Rows):                  #. Finding the number of Rows in the 2D Array Example\n",
    "    for Column in range (len(Example[Row])):       #.  Finding the number of Columns in the 2D Array Example\n",
    "        print(Example[Row][Column],end = \" \")      # Reading the items in the 2D Array Example\n",
    "        A = int(Example[Row][Column])\n",
    "        sum = sum + A\n",
    "        count = count+1                     \n",
    "    print()                                        # This Separates out the Rows\n",
    "\n",
    "Average = sum/count\n",
    "print(\"Sum of the numbers \",sum)\n",
    "print(\"Number of items read \",count)\n",
    "print(\"Average \",Average)\n",
    "\n",
    "\n",
    "\n"
   ]
  },
  {
   "cell_type": "markdown",
   "metadata": {},
   "source": [
    "## **Finding Sum and Average of Different/Individual Rows - allowing code to work out Number of Rows and Columns**"
   ]
  },
  {
   "cell_type": "code",
   "execution_count": 27,
   "metadata": {},
   "outputs": [
    {
     "name": "stdout",
     "output_type": "stream",
     "text": [
      "1 2 3 \n",
      "Sum of the numbers  6\n",
      "Number of items read  3\n",
      "Average  2.0\n",
      "\n",
      "4 5 6 \n",
      "Sum of the numbers  15\n",
      "Number of items read  3\n",
      "Average  5.0\n",
      "\n",
      "7 8 9 \n",
      "Sum of the numbers  24\n",
      "Number of items read  3\n",
      "Average  8.0\n",
      "\n",
      "10 11 12 \n",
      "Sum of the numbers  33\n",
      "Number of items read  3\n",
      "Average  11.0\n",
      "\n"
     ]
    }
   ],
   "source": [
    "# PROGRAM 6\n",
    "# Finding the Average of the Individual Rows of Numbers in the 2D-Array\n",
    "\n",
    "for Row in range(Number_of_Rows):  #. Finding the number of Rows in the 2D Array Example\n",
    "    sum = 0\n",
    "    count = 0\n",
    "    for Column in range (len(Example[Row])): #.  Finding the number of Columns in the 2D Array Example\n",
    "        print(Example[Row][Column],end = \" \")      # Reading the items in the 2D Array Example\n",
    "        A = int(Example[Row][Column])\n",
    "        sum = sum + A\n",
    "        count = count+1 \n",
    "    Average = sum/count\n",
    "    print(\"\\nSum of the numbers \",sum)\n",
    "    print(\"Number of items read \",count)\n",
    "    print(\"Average \",Average)    \n",
    "    print()                                        # This Separates out the Rows\n",
    "\n"
   ]
  },
  {
   "cell_type": "markdown",
   "metadata": {},
   "source": [
    "## **Reporting which Row has the Highest Average**"
   ]
  },
  {
   "cell_type": "code",
   "execution_count": 28,
   "metadata": {},
   "outputs": [
    {
     "name": "stdout",
     "output_type": "stream",
     "text": [
      "1 2 3 \n",
      "Sum of the numbers  6\n",
      "Number of items read  3\n",
      "Average  2.0\n",
      "\n",
      "4 5 6 \n",
      "Sum of the numbers  15\n",
      "Number of items read  3\n",
      "Average  5.0\n",
      "\n",
      "7 8 9 \n",
      "Sum of the numbers  24\n",
      "Number of items read  3\n",
      "Average  8.0\n",
      "\n",
      "10 11 12 \n",
      "Sum of the numbers  33\n",
      "Number of items read  3\n",
      "Average  11.0\n",
      "\n",
      "[2.0, 5.0, 8.0, 11.0]\n",
      "11.0\n"
     ]
    }
   ],
   "source": [
    "# PROGRAM 5\n",
    "# Finding the Average of the Individual Rows of Numbers in the 2D-Array\n",
    "\n",
    "New_Array =[] # Here an Empty Array is created to hold the values of the calculations\n",
    "\n",
    "for Row in range(Number_of_Rows):  #. Finding the number of Rows in the 2D Array Example\n",
    "    sum = 0\n",
    "    count = 0\n",
    "    for Column in range (len(Example[Row])): #.  Finding the number of Columns in the 2D Array Example\n",
    "        print(Example[Row][Column],end = \" \")      # Reading the items in the 2D Array Example\n",
    "        A = int(Example[Row][Column])\n",
    "        sum = sum + A\n",
    "        count = count+1 \n",
    "    Average = sum/count\n",
    "    print(\"\\nSum of the numbers \",sum)\n",
    "    print(\"Number of items read \",count)\n",
    "    print(\"Average \",Average)  \n",
    "    \n",
    "    New_Array.append(Average)    # Here we are populating the array New_Array\n",
    "    print()  # This Separates out the Rows\n",
    "print(New_Array)\n",
    "print(max(New_Array))   #The function max is being applied to the array New_Array"
   ]
  },
  {
   "cell_type": "markdown",
   "metadata": {},
   "source": [
    "## **Reading and Manipulating the Columns of a 2D-Array**"
   ]
  },
  {
   "cell_type": "code",
   "execution_count": 29,
   "metadata": {},
   "outputs": [],
   "source": [
    "# PROGRAM 6\n",
    "New_Example = [[1,2,3],\n",
    "          [4,5,6],\n",
    "          [7,8,9],\n",
    "          [10,11,12]]"
   ]
  },
  {
   "cell_type": "code",
   "execution_count": 30,
   "metadata": {},
   "outputs": [
    {
     "name": "stdout",
     "output_type": "stream",
     "text": [
      "14710\n",
      "25811\n",
      "36912\n"
     ]
    }
   ],
   "source": [
    "# PROGRAM 7\n",
    "# Reading the Columns\n",
    "for Column in range(3):\n",
    "    for Row in range(4):\n",
    "        print(New_Example[Row][Column], end = \"\")\n",
    "    print()\n",
    "        \n",
    "        \n"
   ]
  },
  {
   "cell_type": "code",
   "execution_count": 31,
   "metadata": {},
   "outputs": [
    {
     "name": "stdout",
     "output_type": "stream",
     "text": [
      "1 ,4 ,7 ,10 , Sum  22  Average  5.5\n",
      "\n",
      "2 ,5 ,8 ,11 , Sum  26  Average  6.5\n",
      "\n",
      "3 ,6 ,9 ,12 , Sum  30  Average  7.5\n",
      "\n"
     ]
    }
   ],
   "source": [
    "# PROGRAM 8\n",
    "# Calculating Average the Columns\n",
    "for Column in range(3):\n",
    "    sum = 0\n",
    "    count = 0\n",
    "    for Row in range(4):\n",
    "        print(New_Example[Row][Column],\",\", end = \"\")\n",
    "        X = int(New_Example[Row][Column])\n",
    "        sum = sum + X\n",
    "        count = count + 1\n",
    "    Average = sum/count\n",
    "    print(\" Sum \", sum, \" Average \",Average)\n",
    "    print()\n",
    "        \n",
    "        "
   ]
  },
  {
   "cell_type": "code",
   "execution_count": null,
   "metadata": {},
   "outputs": [],
   "source": []
  },
  {
   "cell_type": "code",
   "execution_count": null,
   "metadata": {},
   "outputs": [],
   "source": []
  }
 ],
 "metadata": {
  "kernelspec": {
   "display_name": "Python 3",
   "language": "python",
   "name": "python3"
  },
  "language_info": {
   "codemirror_mode": {
    "name": "ipython",
    "version": 3
   },
   "file_extension": ".py",
   "mimetype": "text/x-python",
   "name": "python",
   "nbconvert_exporter": "python",
   "pygments_lexer": "ipython3",
   "version": "3.7.4"
  }
 },
 "nbformat": 4,
 "nbformat_minor": 4
}
