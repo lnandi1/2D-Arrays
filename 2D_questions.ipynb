{
 "cells": [
  {
   "cell_type": "markdown",
   "metadata": {},
   "source": [
    "# **Questions for 2D-Arrays**"
   ]
  },
  {
   "cell_type": "markdown",
   "metadata": {},
   "source": [
    "**The average maximum and minimum monthly temperatures (in Centigrades) in London are given as follows:-<br/>January, 6,3\n",
    "<br/>February, 7,3\n",
    "<br/>March 10, 4\n",
    "<br/>April 13,6\n",
    "<br/>May 17, 9\n",
    "<br/>June 20,12\n",
    "<br/>July 22, 14\n",
    "<br/>August 21, 14\n",
    "<br/>September 19, 12\n",
    "<br/>October 19, 9\n",
    "<br/>November 10, 6\n",
    "<br/>December 7, 3**"
   ]
  },
  {
   "cell_type": "markdown",
   "metadata": {},
   "source": [
    "## **(1) Create a 2D-Array called Temperature to represent the above information.**"
   ]
  },
  {
   "cell_type": "code",
   "execution_count": 3,
   "metadata": {},
   "outputs": [],
   "source": [
    "Temperature = [[\"January\", 6,3],\n",
    "            [\"February\", 7,3],\n",
    "            [\"March\", 10, 4],\n",
    "            [\"April\", 13,6],\n",
    "            [\"May\", 17, 9],\n",
    "            [\"June\", 20,12],\n",
    "            [\"July\", 22, 14],\n",
    "            [\"August\", 21, 14],\n",
    "            [\"September\", 19, 12],\n",
    "            [\"October\", 19, 9],\n",
    "            [\"November\", 10, 6],\n",
    "            [\"December\", 7, 3]]"
   ]
  },
  {
   "cell_type": "markdown",
   "metadata": {},
   "source": [
    "## **(2) Write a statement which will print out the average maximum temperature for March?**"
   ]
  },
  {
   "cell_type": "code",
   "execution_count": 8,
   "metadata": {},
   "outputs": [
    {
     "name": "stdout",
     "output_type": "stream",
     "text": [
      "Average Maximum Temperature in March  10\n"
     ]
    }
   ],
   "source": [
    "print(\"Average Maximum Temperature in March \", Temperature[2][1])"
   ]
  },
  {
   "cell_type": "markdown",
   "metadata": {},
   "source": [
    "## **(3) Write a statement which will print out the average maximum temperature for June?**"
   ]
  },
  {
   "cell_type": "markdown",
   "metadata": {},
   "source": [
    "## **(4) Write a statement which will output the average minimum temperature for January?**"
   ]
  },
  {
   "cell_type": "code",
   "execution_count": 10,
   "metadata": {},
   "outputs": [
    {
     "name": "stdout",
     "output_type": "stream",
     "text": [
      "Average Minimum for January  3\n"
     ]
    }
   ],
   "source": [
    "print(\"Average Minimum for January \", Temperature[0][2])"
   ]
  },
  {
   "cell_type": "markdown",
   "metadata": {},
   "source": [
    "## **(5)Write a statement to print out the data for August**"
   ]
  },
  {
   "cell_type": "code",
   "execution_count": 13,
   "metadata": {},
   "outputs": [
    {
     "name": "stdout",
     "output_type": "stream",
     "text": [
      "August    21    14\n"
     ]
    }
   ],
   "source": [
    "print(Temperature[7][0], '  ',Temperature[7][1],'  ',Temperature[7][2])"
   ]
  },
  {
   "cell_type": "markdown",
   "metadata": {},
   "source": [
    "## **(6) Write a statement to print out the data for May**"
   ]
  },
  {
   "cell_type": "markdown",
   "metadata": {},
   "source": [
    "## **(7) Write a Program which output the average of the maximum average temperatures**"
   ]
  },
  {
   "cell_type": "code",
   "execution_count": 22,
   "metadata": {},
   "outputs": [
    {
     "name": "stdout",
     "output_type": "stream",
     "text": [
      "Average maximum temperature is  15.8  Centigrade\n"
     ]
    }
   ],
   "source": [
    "# Maximum Average Temperature is Stored in Column 1 (Remember we start counting from column zero)\n",
    "sum = 0\n",
    "count = 0\n",
    "for maxtemp in range(1,11): # As there are 12 months\n",
    "    Y = Temperature[maxtemp][1]\n",
    "    sum = sum+int(Y)\n",
    "    count = count+1\n",
    "Average = sum/count\n",
    "print(\"Average maximum temperature is \", Average, \" Centigrade\")"
   ]
  },
  {
   "cell_type": "markdown",
   "metadata": {},
   "source": [
    "## **(8) Write a Program which output the average of the minimum average temperatures**"
   ]
  },
  {
   "cell_type": "markdown",
   "metadata": {},
   "source": [
    "## **(9)You are given a 2-D Array with Data about Countries, with Country, Population and Carbon Dioxide Emission**"
   ]
  },
  {
   "cell_type": "code",
   "execution_count": 26,
   "metadata": {},
   "outputs": [],
   "source": [
    "# Country, Population and Carbon Dioxide Emission in MT\n",
    "Countries = [[\"China\", 1439323776,  9056 ],\n",
    "             [\"India\", 1380004385, 2076],\n",
    "             [\"United States\", 331002651, 4833],\n",
    "             [\"United Kingdom\", 67886011, 371]]"
   ]
  },
  {
   "cell_type": "markdown",
   "metadata": {},
   "source": [
    "## **(10) Write a Program which gives the total population of these 4 countries**"
   ]
  },
  {
   "cell_type": "markdown",
   "metadata": {},
   "source": [
    "## **(11) Write a Program which outputs the average population of these 4 countries**"
   ]
  },
  {
   "cell_type": "markdown",
   "metadata": {},
   "source": [
    "## **(12)Write a Program which calculates and outputs the total Carbon Dioxide Emissions of these 4 countries**"
   ]
  },
  {
   "cell_type": "code",
   "execution_count": 31,
   "metadata": {},
   "outputs": [
    {
     "name": "stdout",
     "output_type": "stream",
     "text": [
      "Total Carbon Dioxide Emission  3218216823\n"
     ]
    }
   ],
   "source": [
    "total = 0\n",
    "for row in range(4):\n",
    "    carbon = Countries[row][1]  #Population is in Column 1\n",
    "    total = total +int(carbon)\n",
    "print(\"Total Carbon Dioxide Emission \",total)\n",
    "    "
   ]
  },
  {
   "cell_type": "markdown",
   "metadata": {},
   "source": [
    "## **(13) Write a Program which outputs the average carbon dioxide emission of these 4 countries**"
   ]
  },
  {
   "cell_type": "markdown",
   "metadata": {},
   "source": [
    "## **(14) Alex and this 3 friends are training to run a marathon. Alex records how many miles he and his 3 friends ran each day last week. Alex stores the data in a 2D-array called distanceRun.**"
   ]
  },
  {
   "cell_type": "markdown",
   "metadata": {},
   "source": [
    "<img src=\"2D_Array_Question_61_4.002.jpeg\" alt=\"Kitten\"\n",
    "\ttitle=\"A cute kitten\" width=\"500\" height=\"500\" />"
   ]
  },
  {
   "cell_type": "markdown",
   "metadata": {},
   "source": [
    "## **So, the data is represented by the following 2D-Array**"
   ]
  },
  {
   "cell_type": "code",
   "execution_count": 9,
   "metadata": {},
   "outputs": [],
   "source": [
    "distanceRun =[[9,10,8,12,0,6,9],\n",
    "             [10,12,15,15,0,0,10],\n",
    "             [15,14,13,16,0,8,9],\n",
    "             [6,8,9,10,12,12,0]]"
   ]
  },
  {
   "cell_type": "markdown",
   "metadata": {},
   "source": [
    "## **(15)The distance run by runner 2 on day 0  is given by distanceRun[0,2]**\n",
    "## **Write a Programming Statement to display the distance run by runner 3 on day 4**"
   ]
  },
  {
   "cell_type": "markdown",
   "metadata": {},
   "source": [
    "## **(16) Write a Program that takes a runner number as an input and outputs the total number of miles that they ran over the week.**"
   ]
  },
  {
   "cell_type": "markdown",
   "metadata": {},
   "source": [
    "## **(17)Alex constructs the following 2D-Array to record the scores of 10 rounds on quizes by 6 different players. Write a Program to output the average (mean) score for each round**"
   ]
  },
  {
   "cell_type": "markdown",
   "metadata": {},
   "source": [
    "<img src=\"Practice_Paper_2_2d.002.jpeg\" alt=\"Kitten\"\n",
    "\ttitle=\"A cute kitten\" width=\"500\" height=\"500\" />"
   ]
  },
  {
   "cell_type": "code",
   "execution_count": 1,
   "metadata": {},
   "outputs": [],
   "source": [
    "Scores = [[7, 10, 3, 19, 7, 17, 4, 6, 12, 17],\n",
    "          [8, 1, 20, 20, 18, 8, 14, 1, 15, 9],\n",
    "         [17, 7, 1, 20, 15, 3, 13, 20, 0, 17],\n",
    "         [17, 0, 15, 15, 20, 15, 9, 7, 12, 8],\n",
    "          [19, 19, 0, 12, 19, 2, 9, 9, 6,0],\n",
    "          [11, 5, 15, 9, 9, 12, 13, 15, 2, 18]]"
   ]
  },
  {
   "cell_type": "code",
   "execution_count": null,
   "metadata": {},
   "outputs": [],
   "source": []
  }
 ],
 "metadata": {
  "kernelspec": {
   "display_name": "Python 3",
   "language": "python",
   "name": "python3"
  },
  "language_info": {
   "codemirror_mode": {
    "name": "ipython",
    "version": 3
   },
   "file_extension": ".py",
   "mimetype": "text/x-python",
   "name": "python",
   "nbconvert_exporter": "python",
   "pygments_lexer": "ipython3",
   "version": "3.7.4"
  }
 },
 "nbformat": 4,
 "nbformat_minor": 4
}
