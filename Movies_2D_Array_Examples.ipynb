{
 "cells": [
  {
   "cell_type": "markdown",
   "metadata": {},
   "source": [
    "**2D-Arrays or Lists of Lists**"
   ]
  },
  {
   "cell_type": "markdown",
   "metadata": {},
   "source": [
    "**(1) Defining a 2D Array with 3 Rows and 3 Columns**"
   ]
  },
  {
   "cell_type": "code",
   "execution_count": 1,
   "metadata": {},
   "outputs": [],
   "source": [
    "# PROGRAM 1\n",
    "movies = [[\"Mary Poppins\",2018, 10.15],\n",
    "          [\"Star Wars\", 2019, 9.99],\n",
    "          [\"White Swan\",2020, 12.97]]"
   ]
  },
  {
   "cell_type": "markdown",
   "metadata": {},
   "source": [
    "**(2) Displaying Information in the 2D-Array**"
   ]
  },
  {
   "cell_type": "code",
   "execution_count": 2,
   "metadata": {},
   "outputs": [
    {
     "name": "stdout",
     "output_type": "stream",
     "text": [
      "Movie Information\n",
      "[['Mary Poppins', 2018, 10.15], ['Star Wars', 2019, 9.99], ['White Swan', 2020, 12.97]]\n",
      "\n",
      "\n"
     ]
    }
   ],
   "source": [
    "# PROGRAM 2\n",
    "# Displaying the Information in the 2D-Array\n",
    "print(\"Movie Information\")\n",
    "print(movies)\n",
    "print(\"\\n\")"
   ]
  },
  {
   "cell_type": "markdown",
   "metadata": {},
   "source": [
    "**(3) Adding to the 2D-Array or lists of lists**"
   ]
  },
  {
   "cell_type": "code",
   "execution_count": 3,
   "metadata": {},
   "outputs": [],
   "source": [
    "# PROGRAM 3\n",
    "movies.append([\"The Yellow Road\",2017,7.5])"
   ]
  },
  {
   "cell_type": "markdown",
   "metadata": {},
   "source": [
    "**(4) Displaying Information in the 2D-Array**"
   ]
  },
  {
   "cell_type": "code",
   "execution_count": 4,
   "metadata": {},
   "outputs": [
    {
     "name": "stdout",
     "output_type": "stream",
     "text": [
      "Movie Information\n",
      "[['Mary Poppins', 2018, 10.15], ['Star Wars', 2019, 9.99], ['White Swan', 2020, 12.97], ['The Yellow Road', 2017, 7.5]]\n",
      "\n",
      "\n"
     ]
    }
   ],
   "source": [
    "# PROGRAM 4\n",
    "print(\"Movie Information\")\n",
    "print(movies)\n",
    "print(\"\\n\")"
   ]
  },
  {
   "cell_type": "markdown",
   "metadata": {},
   "source": [
    "**(5)Accessing Individual Items from the 2D-List of Movies**"
   ]
  },
  {
   "cell_type": "code",
   "execution_count": 5,
   "metadata": {},
   "outputs": [
    {
     "name": "stdout",
     "output_type": "stream",
     "text": [
      "Item in Position 0,0  Mary Poppins\n",
      "Item in Position  1,1  Star Wars\n",
      "Item in Position 2,2  12.97\n"
     ]
    }
   ],
   "source": [
    "# PROGRAM 5\n",
    "# Accessing individual items from the 2D-List of Movies\n",
    "print(\"Item in Position 0,0 \", movies[0][0])\n",
    "print(\"Item in Position  1,1 \", movies[1][0])\n",
    "print(\"Item in Position 2,2 \", movies[2][2])\n"
   ]
  },
  {
   "cell_type": "markdown",
   "metadata": {},
   "source": [
    "**(6) Looping through the Rows and Columns of a 2D-Array**"
   ]
  },
  {
   "cell_type": "code",
   "execution_count": 6,
   "metadata": {},
   "outputs": [
    {
     "name": "stdout",
     "output_type": "stream",
     "text": [
      "['Mary Poppins', 2018, 10.15]\n",
      "['Star Wars', 2019, 9.99]\n",
      "['White Swan', 2020, 12.97]\n",
      "['The Yellow Road', 2017, 7.5]\n"
     ]
    }
   ],
   "source": [
    "# PROGRAM 6\n",
    "# Looping through the rows and columns in a 2D-Array\n",
    "for movie in movies:\n",
    "    print(movie)"
   ]
  },
  {
   "cell_type": "markdown",
   "metadata": {},
   "source": [
    "**(7) What is the average of the 3rd items in the 2D-Array movies?**"
   ]
  },
  {
   "cell_type": "code",
   "execution_count": 7,
   "metadata": {},
   "outputs": [
    {
     "name": "stdout",
     "output_type": "stream",
     "text": [
      "['Mary Poppins', 2018, 10.15]   Mary Poppins\n",
      "['Mary Poppins', 2018, 10.15]   2018\n",
      "['Mary Poppins', 2018, 10.15]   10.15\n",
      "['Star Wars', 2019, 9.99]   Star Wars\n",
      "['Star Wars', 2019, 9.99]   2019\n",
      "['Star Wars', 2019, 9.99]   9.99\n",
      "['White Swan', 2020, 12.97]   White Swan\n",
      "['White Swan', 2020, 12.97]   2020\n",
      "['White Swan', 2020, 12.97]   12.97\n",
      "['The Yellow Road', 2017, 7.5]   The Yellow Road\n",
      "['The Yellow Road', 2017, 7.5]   2017\n",
      "['The Yellow Road', 2017, 7.5]   7.5\n"
     ]
    }
   ],
   "source": [
    "# PROGRAM 7\n",
    "# Average\n",
    "sum = 0\n",
    "for row in movies:\n",
    "    for item in row:\n",
    "        print(row, \" \",item)\n",
    "#        print(movies[row][item])\n",
    "  "
   ]
  },
  {
   "cell_type": "code",
   "execution_count": null,
   "metadata": {},
   "outputs": [],
   "source": []
  },
  {
   "cell_type": "code",
   "execution_count": null,
   "metadata": {},
   "outputs": [],
   "source": []
  }
 ],
 "metadata": {
  "kernelspec": {
   "display_name": "Python 3",
   "language": "python",
   "name": "python3"
  },
  "language_info": {
   "codemirror_mode": {
    "name": "ipython",
    "version": 3
   },
   "file_extension": ".py",
   "mimetype": "text/x-python",
   "name": "python",
   "nbconvert_exporter": "python",
   "pygments_lexer": "ipython3",
   "version": "3.7.4"
  }
 },
 "nbformat": 4,
 "nbformat_minor": 4
}
